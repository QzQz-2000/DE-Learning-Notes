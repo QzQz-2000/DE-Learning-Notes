{
 "cells": [
  {
   "cell_type": "markdown",
   "metadata": {},
   "source": [
    "# Pandas常用函数"
   ]
  },
  {
   "cell_type": "markdown",
   "metadata": {},
   "source": [
    "### pandas.melt()"
   ]
  },
  {
   "cell_type": "markdown",
   "metadata": {},
   "source": [
    "melt() 函数在 pandas 中用于数据重塑（reshaping），主要作用是将数据框（DataFrame）从宽格式（wide format）转换为长格式（long format）。这种转换非常有用，特别是在数据分析和数据准备阶段，能够更方便地进行数据处理、分析和可视化。"
   ]
  },
  {
   "cell_type": "code",
   "execution_count": null,
   "metadata": {},
   "outputs": [],
   "source": [
    "pandas.melt(frame, id_vars=None, value_vars=None, var_name=None, value_name='value', col_level=None)\n",
    "\n",
    "# frame：要重塑的数据框（DataFrame）。\n",
    "# id_vars：可选参数，表示要保留的列，即不进行重塑的列，通常是标识每个数据行的列。\n",
    "# value_vars：可选参数，表示要进行重塑的列。如果未指定，则使用除 id_vars 以外的所有列。\n",
    "# var_name：新变量名的名称。默认为 'variable'。\n",
    "# value_name：新值列的列名。默认为 'value'。\n",
    "# col_level：如果输入是多层索引（MultiIndex），则指定在哪个级别执行操作。"
   ]
  },
  {
   "cell_type": "code",
   "execution_count": 3,
   "metadata": {},
   "outputs": [
    {
     "name": "stdout",
     "output_type": "stream",
     "text": [
      "原始数据框：\n",
      "  Student  Math  English  Science\n",
      "0    John    85       88       90\n",
      "1   Alice    90       92       87\n",
      "2     Bob    88       85       89\n"
     ]
    }
   ],
   "source": [
    "import pandas as pd\n",
    "\n",
    "# 创建示例数据框\n",
    "df = pd.DataFrame({\n",
    "    'Student': ['John', 'Alice', 'Bob'],\n",
    "    'Math': [85, 90, 88],\n",
    "    'English': [88, 92, 85],\n",
    "    'Science': [90, 87, 89]\n",
    "})\n",
    "\n",
    "print(\"原始数据框：\")\n",
    "print(df)"
   ]
  },
  {
   "cell_type": "code",
   "execution_count": 4,
   "metadata": {},
   "outputs": [
    {
     "name": "stdout",
     "output_type": "stream",
     "text": [
      "\n",
      "转换后的数据框：\n",
      "  Student  Subject  Score\n",
      "0    John     Math     85\n",
      "1   Alice     Math     90\n",
      "2     Bob     Math     88\n",
      "3    John  English     88\n",
      "4   Alice  English     92\n",
      "5     Bob  English     85\n",
      "6    John  Science     90\n",
      "7   Alice  Science     87\n",
      "8     Bob  Science     89\n"
     ]
    }
   ],
   "source": [
    "# 使用 melt() 函数将宽格式转换为长格式\n",
    "melted_df = pd.melt(df, id_vars=['Student'], var_name='Subject', value_name='Score')\n",
    "\n",
    "print(\"\\n转换后的数据框：\")\n",
    "print(melted_df)"
   ]
  },
  {
   "cell_type": "markdown",
   "metadata": {},
   "source": [
    "## Pathlib"
   ]
  },
  {
   "cell_type": "code",
   "execution_count": 1,
   "metadata": {},
   "outputs": [
    {
     "name": "stdout",
     "output_type": "stream",
     "text": [
      "file.txt\n",
      "file\n",
      ".txt\n",
      "path/to/your\n",
      "[PosixPath('path/to/your'), PosixPath('path/to'), PosixPath('path'), PosixPath('.')]\n"
     ]
    }
   ],
   "source": [
    "from pathlib import Path\n",
    "\n",
    "p = Path('path/to/your/file.txt')\n",
    "\n",
    "# 文件名\n",
    "print(p.name)  # 输出: 'file.txt'\n",
    "\n",
    "# 文件的主干名（不包括扩展名）\n",
    "print(p.stem)  # 输出: 'file'\n",
    "\n",
    "# 文件扩展名\n",
    "print(p.suffix)  # 输出: '.txt'\n",
    "\n",
    "# 目录名\n",
    "print(p.parent)  # 输出: 'path/to/your'\n",
    "\n",
    "# 所有父目录\n",
    "print(list(p.parents))  # 输出: [Path('path/to/your'), Path('path/to'), Path('path')]"
   ]
  }
 ],
 "metadata": {
  "kernelspec": {
   "display_name": "base",
   "language": "python",
   "name": "python3"
  },
  "language_info": {
   "codemirror_mode": {
    "name": "ipython",
    "version": 3
   },
   "file_extension": ".py",
   "mimetype": "text/x-python",
   "name": "python",
   "nbconvert_exporter": "python",
   "pygments_lexer": "ipython3",
   "version": "3.11.5"
  }
 },
 "nbformat": 4,
 "nbformat_minor": 2
}
